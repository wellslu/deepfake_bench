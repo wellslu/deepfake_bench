{
 "cells": [
  {
   "cell_type": "code",
   "execution_count": 1,
   "id": "b4627e7c",
   "metadata": {},
   "outputs": [],
   "source": [
    "import matplotlib.pyplot as plt\n",
    "import numpy as np\n",
    "import pandas as pd\n",
    "import pickle"
   ]
  },
  {
   "cell_type": "code",
   "execution_count": 2,
   "id": "a3d1c111",
   "metadata": {},
   "outputs": [],
   "source": [
    "datapath = '../logs/lsda_epoch_0_no_edit_feature_vectors.pkl'\n",
    "\n",
    "with open(datapath, 'rb') as f:\n",
    "    data = pickle.load(f)\n",
    "\n",
    "# data should be a dictionary with keys 'vectors' and 'labels'\n",
    "vectors = data['vectors']\n",
    "labels = data['labels']"
   ]
  },
  {
   "cell_type": "code",
   "execution_count": 25,
   "id": "394b2dc0",
   "metadata": {},
   "outputs": [],
   "source": [
    "# each feature vector is 12 x 512 x 8 x 8\n",
    "# technically, the classifier takes the last 8x8 and averages it so the actual classifier input is 12 x 512\n",
    "# might be needed if dimensions get too crazy\n",
    "# for each vector in list vectors, flatten it. Then combine them all into a numpy array\n",
    "\n",
    "# first, remove any vectors (and corresponding labels) which are not 12 x 512 x 8 x 8\n",
    "labels = [l for l, v in zip(labels, vectors) if v.shape == (12, 512, 8, 8)]\n",
    "vectors = [v for v in vectors if v.shape == (12, 512, 8, 8)]\n",
    "assert len(labels) == len(vectors)\n",
    "\n",
    "# next, take each vector and flatten it. put all these vecgtors into a single numpy array\n",
    "flattened_vectors = np.array([v.flatten() for v in vectors])\n",
    "labels = np.array(labels)"
   ]
  },
  {
   "cell_type": "code",
   "execution_count": null,
   "id": "2820bcde",
   "metadata": {},
   "outputs": [
    {
     "name": "stdout",
     "output_type": "stream",
     "text": [
      "Flattened vectors shape: (1865, 393216)\n",
      "Labels shape: (1865,)\n"
     ]
    }
   ],
   "source": [
    "# TODO: UMAP or t-SNE to dimension reduce to 2 using class labels\n",
    "# use torch because it's much faster"
   ]
  },
  {
   "cell_type": "code",
   "execution_count": null,
   "id": "06853e72",
   "metadata": {},
   "outputs": [],
   "source": []
  }
 ],
 "metadata": {
  "kernelspec": {
   "display_name": "DeepfakeBench",
   "language": "python",
   "name": "python3"
  },
  "language_info": {
   "codemirror_mode": {
    "name": "ipython",
    "version": 3
   },
   "file_extension": ".py",
   "mimetype": "text/x-python",
   "name": "python",
   "nbconvert_exporter": "python",
   "pygments_lexer": "ipython3",
   "version": "3.7.2"
  }
 },
 "nbformat": 4,
 "nbformat_minor": 5
}
